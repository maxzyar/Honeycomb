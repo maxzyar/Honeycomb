{
 "cells": [
  {
   "cell_type": "markdown",
   "metadata": {
    "deletable": true,
    "editable": true
   },
   "source": [
    "# A honeycomb problem analysis in python\n",
    "\n",
    "A bee walks around on a honeycomb, an infinite tessalating hexagonal grid, starting at a fixed hexagon. At each step, the bee moves to one of the six adjacent hexagons with equal probability. We'll assume adjacent hexagons are always a distance of one unit away from each other.\n",
    "\n",
    "After $T=16$ steps, what is the expected value of the bee's distance from the starting hexagon?"
   ]
  },
  {
   "cell_type": "code",
   "execution_count": 1,
   "metadata": {
    "collapsed": false,
    "deletable": true,
    "editable": true
   },
   "outputs": [
    {
     "name": "stdout",
     "output_type": "stream",
     "text": [
      "The expected value of the bee's distance from the starting hexagon after 16 moves is: 3\n"
     ]
    }
   ],
   "source": [
    "import operator\n",
    "import random\n",
    "\n",
    "T=16\n",
    "n = int(1e7)\n",
    "positions = []\n",
    "\n",
    "moves = {0:(0,1), 1:(-3**.5/2,1/2), 2:(-3**.5/2,-1/2), 3:(0,-1), 4:(3**.5/2,-1/2), 5:(3**.5/2,1/2)}\n",
    "# This dictionary gives the change in coordinates for any direction: 0 for up, 1 for up-left,\n",
    "# 2 for down-left, 3 for down, 4 for down-right, and 5 for up-right\n",
    "\n",
    "for i in range(n):\n",
    "    pos = (0,0)\n",
    "    for j in range(T):\n",
    "        pos = tuple(map(operator.add, pos, moves[random.randint(0, 5)]))\n",
    "    positions.append(pos)\n",
    "\n",
    "dis = []\n",
    "for i in range(n):\n",
    "    dis.append(((positions[i][0])**2+(positions[i][1])**2)**.5)\n",
    "print(\"The expected value of the bee's distance from the starting hexagon after %d moves is: %d\" % (T, sum(dis)/float(len(dis))))"
   ]
  },
  {
   "cell_type": "markdown",
   "metadata": {
    "deletable": true,
    "editable": true
   },
   "source": [
    "After $T=16$ steps, what is the expected value of the deviation of the bee's distance from the starting hexagon?"
   ]
  },
  {
   "cell_type": "code",
   "execution_count": 12,
   "metadata": {
    "collapsed": false,
    "deletable": true,
    "editable": true
   },
   "outputs": [
    {
     "name": "stdout",
     "output_type": "stream",
     "text": [
      "The expected value of the deviation of the bee's distance from the starting hexagon after 16 moves is: 2\n"
     ]
    }
   ],
   "source": [
    "import numpy as np\n",
    "print(\"The expected value of the deviation of the bee's distance from the starting hexagon after %d moves is: %d\" % (T, np.std(positions)))"
   ]
  },
  {
   "cell_type": "markdown",
   "metadata": {
    "deletable": true,
    "editable": true
   },
   "source": [
    "After $T=16$ moves, what is the probability that the bee is at least $A=8$ distance away from the starting hexagon, given it is at least $B=6$ distance?"
   ]
  },
  {
   "cell_type": "code",
   "execution_count": 57,
   "metadata": {
    "collapsed": false,
    "deletable": true,
    "editable": true
   },
   "outputs": [
    {
     "name": "stdout",
     "output_type": "stream",
     "text": [
      "P(A|B) after 64 move is:  0.6109194182243938\n"
     ]
    }
   ],
   "source": [
    "A = [i for i in dis if i>=8]\n",
    "B = [i for i in dis if i>=6]\n",
    "print(\"P(A|B) after %d move is: \" % T, len(A)/len(B))"
   ]
  },
  {
   "cell_type": "markdown",
   "metadata": {
    "collapsed": false,
    "deletable": true,
    "editable": true
   },
   "source": [
    "After $T=64$ steps, what is the expected value of the bee's distance from the starting hexagon?"
   ]
  },
  {
   "cell_type": "code",
   "execution_count": 45,
   "metadata": {
    "collapsed": false,
    "deletable": true,
    "editable": true
   },
   "outputs": [
    {
     "name": "stdout",
     "output_type": "stream",
     "text": [
      "The expected value of the bee's distance from the starting hexagon after 64 moves is: 7\n"
     ]
    }
   ],
   "source": [
    "T=64\n",
    "positions = []\n",
    "\n",
    "for i in range(n):\n",
    "    pos = (0,0)\n",
    "    for j in range(T):\n",
    "        pos = tuple(map(operator.add, pos, moves[random.randint(0, 5)]))\n",
    "    positions.append(pos)\n",
    "\n",
    "dis = []\n",
    "for i in range(n):\n",
    "    dis.append(((positions[i][0])**2+(positions[i][1])**2)**.5)\n",
    "print(\"The expected value of the bee's distance from the starting hexagon after %d moves is: %d\" % (T, sum(dis)/float(len(dis))))"
   ]
  },
  {
   "cell_type": "markdown",
   "metadata": {
    "deletable": true,
    "editable": true
   },
   "source": [
    "After $T=64$ steps, what is the expected value of the deviation of the bee's distance from the starting hexagon?"
   ]
  },
  {
   "cell_type": "code",
   "execution_count": 46,
   "metadata": {
    "collapsed": false,
    "deletable": true,
    "editable": true
   },
   "outputs": [
    {
     "name": "stdout",
     "output_type": "stream",
     "text": [
      "The expected value of the deviation of the bee's distance from the starting hexagon after 64 moves is: 5\n"
     ]
    }
   ],
   "source": [
    "print(\"The expected value of the deviation of the bee's distance from the starting hexagon after %d moves is: %d\" % (T, np.std(positions)))"
   ]
  },
  {
   "cell_type": "markdown",
   "metadata": {
    "deletable": true,
    "editable": true
   },
   "source": [
    "After $T=64$ moves, what is the probability that the bee is at least $A=24$ distance away from the starting hexagon, given it is at least $B=20$ distance?"
   ]
  },
  {
   "cell_type": "code",
   "execution_count": 56,
   "metadata": {
    "collapsed": false,
    "deletable": true,
    "editable": true
   },
   "outputs": [
    {
     "name": "stdout",
     "output_type": "stream",
     "text": [
      "P(A|B) after 64 move is: 0.05932981409226532\n"
     ]
    }
   ],
   "source": [
    "A = [i for i in dis if i>=24]\n",
    "B = [i for i in dis if i>=20]\n",
    "print(\"P(A|B) after %d move is:\" % T, len(A)/len(B))"
   ]
  },
  {
   "cell_type": "code",
   "execution_count": null,
   "metadata": {
    "collapsed": true,
    "deletable": true,
    "editable": true
   },
   "outputs": [],
   "source": []
  }
 ],
 "metadata": {
  "kernelspec": {
   "display_name": "Python 3",
   "language": "python",
   "name": "python3"
  },
  "language_info": {
   "codemirror_mode": {
    "name": "ipython",
    "version": 3
   },
   "file_extension": ".py",
   "mimetype": "text/x-python",
   "name": "python",
   "nbconvert_exporter": "python",
   "pygments_lexer": "ipython3",
   "version": "3.5.2"
  }
 },
 "nbformat": 4,
 "nbformat_minor": 2
}
